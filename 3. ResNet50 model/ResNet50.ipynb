{
 "cells": [
  {
   "cell_type": "markdown",
   "id": "034ee4d3",
   "metadata": {},
   "source": [
    "# ResNet50"
   ]
  },
  {
   "cell_type": "markdown",
   "id": "d0b05d9f",
   "metadata": {},
   "source": [
    "## 1. Imports:"
   ]
  },
  {
   "cell_type": "code",
   "execution_count": 2,
   "id": "1663c4f0",
   "metadata": {},
   "outputs": [],
   "source": [
    "# Importing necessary libraries\n",
    "# For data manipulation and numerical operations\n",
    "import pandas as pd\n",
    "import numpy as np\n",
    "from numpy import save, load, asarray\n",
    "\n",
    "# Deep learning and neural network building\n",
    "import keras\n",
    "from keras.layers import Dense, Convolution1D, Flatten, Convolution2D\n",
    "from tensorflow.keras.layers import BatchNormalization\n",
    "from keras.callbacks import EarlyStopping, ModelCheckpoint\n",
    "from keras.regularizers import l1\n",
    "import tensorflow as tf\n",
    "from keras.utils import to_categorical, plot_model\n",
    "from keras.models import Sequential, Model\n",
    "from keras.layers import Input, Dropout, Activation, Add\n",
    "from keras.layers import Conv1D, GlobalAveragePooling1D, MaxPool1D, ZeroPadding1D, LSTM, Bidirectional\n",
    "\n",
    "# Visualization tools\n",
    "import matplotlib.pyplot as plt\n",
    "import seaborn as sns\n",
    "\n",
    "# Scientific computing and file loading\n",
    "from scipy import optimize\n",
    "from scipy.io import loadmat\n",
    "\n",
    "# For merging layers in TensorFlow\n",
    "from tensorflow.keras.layers import concatenate"
   ]
  },
  {
   "cell_type": "markdown",
   "id": "7e718aa2",
   "metadata": {},
   "source": [
    "## 2. Data Importing:"
   ]
  },
  {
   "cell_type": "code",
   "execution_count": null,
   "id": "12c3340c",
   "metadata": {},
   "outputs": [],
   "source": [
    "# Load training and testing datasets (features and labels)\n",
    "X_train = load(r\"3. Data set generation\\ECG_training.npy\", allow_pickle=True)\n",
    "y_train = load(r\"3. Data set generation\\ECG_training_labels.npy\", allow_pickle=True)\n",
    "X_test  = load(r\"3. Data set generation\\ECG_testing.npy\", allow_pickle=True)\n",
    "y_test  = load(r\"3. Data set generation\\ECG_testing_labels.npy\", allow_pickle=True)"
   ]
  },
  {
   "cell_type": "markdown",
   "id": "1deae84b",
   "metadata": {},
   "source": [
    "## 3. ResNet50 Structure:"
   ]
  },
  {
   "cell_type": "code",
   "execution_count": 3,
   "id": "14a00aff",
   "metadata": {},
   "outputs": [],
   "source": [
    "# Define the identity block of ResNet50\n",
    "def identity_block(X, f, filters):\n",
    "    # Filters for each convolution\n",
    "    F1, F2, F3 = filters\n",
    "    \n",
    "    # Save input for shortcut connection\n",
    "    X_shortcut = X\n",
    "    \n",
    "    # Convolution layers\n",
    "    X = Conv1D(filters=64, kernel_size=5, activation='relu', strides=1, padding='same')(X)\n",
    "    X = BatchNormalization()(X)\n",
    "\n",
    "    # Additional convolutions and activations\n",
    "    X = Conv1D(filters=64, kernel_size=5, activation='relu', strides=1, padding='same')(X)\n",
    "    X = BatchNormalization()(X)\n",
    "\n",
    "    # Final set of convolutions\n",
    "    X = Conv1D(filters=F3, kernel_size=1, activation='relu', strides=1, padding='same')(X)\n",
    "    X = BatchNormalization()(X)\n",
    "\n",
    "    # Shortcut connection\n",
    "    X = Add()([X, X_shortcut])\n",
    "    X = Activation('relu')(X)\n",
    "    \n",
    "    return X\n",
    "\n",
    "# Define convolutional block\n",
    "def convolutional_block(X, f, filters, s=2):\n",
    "    F1, F2, F3 = filters\n",
    "    \n",
    "    # Save shortcut\n",
    "    X_shortcut = X\n",
    "\n",
    "    # Main path with strides to downsample\n",
    "    X = Conv1D(F1, 1, activation='relu', strides=s)(X)\n",
    "    X = BatchNormalization()(X)\n",
    "    \n",
    "    # Other convolutions\n",
    "    X = Conv1D(F2, f, activation='relu', strides=1, padding='same')(X)\n",
    "    X = BatchNormalization()(X)\n",
    "\n",
    "    # Shortcut with same dimensions\n",
    "    X_shortcut = Conv1D(F3, 1, strides=s)(X_shortcut)\n",
    "    X_shortcut = BatchNormalization()(X_shortcut)\n",
    "\n",
    "    # Merge and activate\n",
    "    X = Add()([X, X_shortcut])\n",
    "    X = Activation('relu')(X)\n",
    "    \n",
    "    return X\n",
    "\n",
    "# ResNet50 architecture\n",
    "def ResNet50(input_shape):\n",
    "    X_input = Input(input_shape)\n",
    "\n",
    "    # Initial layer\n",
    "    X = ZeroPadding1D(3)(X_input)\n",
    "    X = Conv1D(64, 7, strides=2)(X)\n",
    "    X = BatchNormalization()(X)\n",
    "    X = Activation('relu')(X)\n",
    "\n",
    "    # Add blocks for feature extraction\n",
    "    X = convolutional_block(X, 3, [64, 64, 256], s=1)\n",
    "    X = identity_block(X, 3, [64, 64, 256])\n",
    "    \n",
    "    X = GlobalAveragePooling1D()(X)\n",
    "    X = Dense(2, activation='sigmoid')(X)\n",
    "\n",
    "    return Model(inputs=X_input, outputs=X, name='ResNet50')"
   ]
  }
 ]
}
