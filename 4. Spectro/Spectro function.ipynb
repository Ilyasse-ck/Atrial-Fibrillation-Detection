{
 "cells": [
  {
   "cell_type": "markdown",
   "id": "25988305",
   "metadata": {},
   "source": [
    "# Spectro"
   ]
  },
  {
   "cell_type": "code",
   "execution_count": 1,
   "id": "8a225579",
   "metadata": {},
   "outputs": [],
   "source": [
    "from scipy import signal\n",
    "import numpy as np"
   ]
  },
  {
   "cell_type": "code",
   "execution_count": 2,
   "id": "0d6fa775",
   "metadata": {},
   "outputs": [],
   "source": [
    "def Spectro(Data):\n",
    "    \"\"\"spectrogram for 1 derivation\"\"\"\n",
    "    Spectrograme=[]\n",
    "    f, t, Sxx = signal.spectrogram(Data, fs=500, return_onesided=True,nperseg=31)\n",
    "    log_scale = np.log(np.abs(Sxx)+0.001)\n",
    "    Spectrograme += [log_scale]\n",
    "    return Spectrograme\n",
    "def Spectro_12(Data):\n",
    "    \"\"\"spectrogram pour 1 derivation\"\"\"\n",
    "    Spectrograme=[]\n",
    "    for i in range(len(Data)):\n",
    "        f, t, Sxx = signal.spectrogram(Data[i], fs=500, return_onesided=True,nperseg=31)\n",
    "        log_scale = np.log(np.abs(Sxx)+0.001)\n",
    "        Spectrograme += [log_scale]\n",
    "    return Spectrograme"
   ]
  }
 ],
 "metadata": {
  "kernelspec": {
   "display_name": "Python 3 (ipykernel)",
   "language": "python",
   "name": "python3"
  },
  "language_info": {
   "codemirror_mode": {
    "name": "ipython",
    "version": 3
   },
   "file_extension": ".py",
   "mimetype": "text/x-python",
   "name": "python",
   "nbconvert_exporter": "python",
   "pygments_lexer": "ipython3",
   "version": "3.9.13"
  }
 },
 "nbformat": 4,
 "nbformat_minor": 5
}
